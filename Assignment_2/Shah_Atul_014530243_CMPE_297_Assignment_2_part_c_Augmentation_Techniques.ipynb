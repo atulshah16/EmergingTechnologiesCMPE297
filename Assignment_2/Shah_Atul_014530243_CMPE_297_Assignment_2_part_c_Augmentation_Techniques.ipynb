{
  "nbformat": 4,
  "nbformat_minor": 0,
  "metadata": {
    "jupytext": {
      "split_at_heading": true
    },
    "kernelspec": {
      "display_name": "Python 3",
      "language": "python",
      "name": "python3"
    },
    "colab": {
      "name": "Shah_Atul_014530243_CMPE_297_Assignment_2_part_c_Augmentation_Techniques.ipynb",
      "provenance": [],
      "include_colab_link": true
    },
    "accelerator": "GPU"
  },
  "cells": [
    {
      "cell_type": "markdown",
      "metadata": {
        "id": "view-in-github",
        "colab_type": "text"
      },
      "source": [
        "<a href=\"https://colab.research.google.com/github/atulshah16/EmergingTechnologiesCMPE297/blob/master/Assignment_2/Shah_Atul_014530243_CMPE_297_Assignment_2_part_c_Augmentation_Techniques.ipynb\" target=\"_parent\"><img src=\"https://colab.research.google.com/assets/colab-badge.svg\" alt=\"Open In Colab\"/></a>"
      ]
    },
    {
      "cell_type": "markdown",
      "metadata": {
        "id": "ANRjQUVqO5bG",
        "colab_type": "text"
      },
      "source": [
        "Name: Atul Shah\n",
        "Student ID: 014530243\n",
        "\n",
        "# Augmentation Techniques using FastAI"
      ]
    },
    {
      "cell_type": "code",
      "metadata": {
        "id": "Apoi6etq6bvC",
        "colab_type": "code",
        "colab": {
          "base_uri": "https://localhost:8080/",
          "height": 221
        },
        "outputId": "341f11d7-7b8c-4940-e4b5-31faaeeadab2"
      },
      "source": [
        "#hide\n",
        "!pip install -Uqq fastbook\n",
        "import fastbook\n",
        "fastbook.setup_book()"
      ],
      "execution_count": 3,
      "outputs": [
        {
          "output_type": "stream",
          "text": [
            "\u001b[K     |████████████████████████████████| 727kB 12.6MB/s \n",
            "\u001b[K     |████████████████████████████████| 61kB 7.8MB/s \n",
            "\u001b[K     |████████████████████████████████| 51kB 7.7MB/s \n",
            "\u001b[K     |████████████████████████████████| 358kB 48.8MB/s \n",
            "\u001b[K     |████████████████████████████████| 1.0MB 55.3MB/s \n",
            "\u001b[K     |████████████████████████████████| 40kB 6.9MB/s \n",
            "\u001b[K     |████████████████████████████████| 40kB 6.5MB/s \n",
            "\u001b[K     |████████████████████████████████| 92kB 12.5MB/s \n",
            "\u001b[K     |████████████████████████████████| 61kB 10.2MB/s \n",
            "\u001b[K     |████████████████████████████████| 51kB 8.3MB/s \n",
            "\u001b[K     |████████████████████████████████| 2.6MB 48.0MB/s \n",
            "\u001b[?25hMounted at /content/gdrive\n"
          ],
          "name": "stdout"
        }
      ]
    },
    {
      "cell_type": "code",
      "metadata": {
        "id": "PZmUpAZU6bvJ",
        "colab_type": "code",
        "colab": {}
      },
      "source": [
        "#hide\n",
        "from fastbook import *"
      ],
      "execution_count": 4,
      "outputs": []
    },
    {
      "cell_type": "markdown",
      "metadata": {
        "id": "qDgcfnP76bvO",
        "colab_type": "text"
      },
      "source": [
        "## Training model using CIFAR10 dataset"
      ]
    },
    {
      "cell_type": "code",
      "metadata": {
        "id": "Oj758X_W6bvP",
        "colab_type": "code",
        "colab": {
          "base_uri": "https://localhost:8080/",
          "height": 17
        },
        "outputId": "c810a23f-5ba9-42be-f367-56858e3c1f5c"
      },
      "source": [
        "from fastai.vision.all import *\n",
        "path = untar_data(URLs.CIFAR)"
      ],
      "execution_count": 5,
      "outputs": [
        {
          "output_type": "display_data",
          "data": {
            "text/html": [
              ""
            ],
            "text/plain": [
              "<IPython.core.display.HTML object>"
            ]
          },
          "metadata": {
            "tags": []
          }
        }
      ]
    },
    {
      "cell_type": "code",
      "metadata": {
        "id": "dgaPmauW6bvS",
        "colab_type": "code",
        "colab": {}
      },
      "source": [
        "dblock = DataBlock(blocks=(ImageBlock(), CategoryBlock()),\n",
        "                   get_items=get_image_files,\n",
        "                   get_y=parent_label,\n",
        "                   item_tfms=Resize(460),\n",
        "                   batch_tfms=aug_transforms(size=224, min_scale=0.75))\n",
        "dls = dblock.dataloaders(path, bs=64)"
      ],
      "execution_count": 6,
      "outputs": []
    },
    {
      "cell_type": "code",
      "metadata": {
        "id": "ayQWyZyT6bvU",
        "colab_type": "code",
        "colab": {
          "base_uri": "https://localhost:8080/",
          "height": 142
        },
        "outputId": "3cae8d84-4578-4db9-e854-54df704d944d"
      },
      "source": [
        "model = xresnet50()\n",
        "learn = Learner(dls, model, loss_func=CrossEntropyLossFlat(), metrics=accuracy)\n",
        "learn.fit_one_cycle(3, 3e-3)"
      ],
      "execution_count": null,
      "outputs": [
        {
          "output_type": "display_data",
          "data": {
            "text/html": [
              "<table border=\"1\" class=\"dataframe\">\n",
              "  <thead>\n",
              "    <tr style=\"text-align: left;\">\n",
              "      <th>epoch</th>\n",
              "      <th>train_loss</th>\n",
              "      <th>valid_loss</th>\n",
              "      <th>accuracy</th>\n",
              "      <th>time</th>\n",
              "    </tr>\n",
              "  </thead>\n",
              "  <tbody>\n",
              "    <tr>\n",
              "      <td>0</td>\n",
              "      <td>1.356064</td>\n",
              "      <td>1.591986</td>\n",
              "      <td>0.466917</td>\n",
              "      <td>11:25</td>\n",
              "    </tr>\n",
              "    <tr>\n",
              "      <td>1</td>\n",
              "      <td>0.917505</td>\n",
              "      <td>0.918472</td>\n",
              "      <td>0.674583</td>\n",
              "      <td>11:28</td>\n",
              "    </tr>\n",
              "    <tr>\n",
              "      <td>2</td>\n",
              "      <td>0.710685</td>\n",
              "      <td>0.686783</td>\n",
              "      <td>0.758250</td>\n",
              "      <td>11:28</td>\n",
              "    </tr>\n",
              "  </tbody>\n",
              "</table>"
            ],
            "text/plain": [
              "<IPython.core.display.HTML object>"
            ]
          },
          "metadata": {
            "tags": []
          }
        }
      ]
    },
    {
      "cell_type": "markdown",
      "metadata": {
        "id": "FOV10jd76bvY",
        "colab_type": "text"
      },
      "source": [
        "## Normalization"
      ]
    },
    {
      "cell_type": "code",
      "metadata": {
        "id": "UJEg2LI06bvZ",
        "colab_type": "code",
        "colab": {
          "base_uri": "https://localhost:8080/",
          "height": 51
        },
        "outputId": "d3290d27-0c1b-4a71-882c-3dd69079dd88"
      },
      "source": [
        "x,y = dls.one_batch()\n",
        "x.mean(dim=[0,2,3]),x.std(dim=[0,2,3])"
      ],
      "execution_count": 7,
      "outputs": [
        {
          "output_type": "execute_result",
          "data": {
            "text/plain": [
              "(TensorImage([0.4632, 0.4563, 0.4221], device='cuda:0'),\n",
              " TensorImage([0.2272, 0.2220, 0.2357], device='cuda:0'))"
            ]
          },
          "metadata": {
            "tags": []
          },
          "execution_count": 7
        }
      ]
    },
    {
      "cell_type": "code",
      "metadata": {
        "id": "6Y5PhRYn6bvc",
        "colab_type": "code",
        "colab": {}
      },
      "source": [
        "def get_dls(bs, size):\n",
        "    dblock = DataBlock(blocks=(ImageBlock, CategoryBlock),\n",
        "                   get_items=get_image_files,\n",
        "                   get_y=parent_label,\n",
        "                   item_tfms=Resize(460),\n",
        "                   batch_tfms=[*aug_transforms(size=size, min_scale=0.75),\n",
        "                               Normalize.from_stats(*imagenet_stats)])\n",
        "    return dblock.dataloaders(path, bs=bs)"
      ],
      "execution_count": 8,
      "outputs": []
    },
    {
      "cell_type": "code",
      "metadata": {
        "id": "QuVNeJJ66bvf",
        "colab_type": "code",
        "colab": {}
      },
      "source": [
        "dls = get_dls(64, 224)"
      ],
      "execution_count": 9,
      "outputs": []
    },
    {
      "cell_type": "code",
      "metadata": {
        "id": "-WVHdAfV6bvh",
        "colab_type": "code",
        "colab": {
          "base_uri": "https://localhost:8080/",
          "height": 51
        },
        "outputId": "236e79ea-d02c-4922-9751-02cf2e4be685"
      },
      "source": [
        "x,y = dls.one_batch()\n",
        "x.mean(dim=[0,2,3]),x.std(dim=[0,2,3])"
      ],
      "execution_count": 10,
      "outputs": [
        {
          "output_type": "execute_result",
          "data": {
            "text/plain": [
              "(TensorImage([-0.0011,  0.0805,  0.1154], device='cuda:0'),\n",
              " TensorImage([1.1191, 1.0897, 1.1996], device='cuda:0'))"
            ]
          },
          "metadata": {
            "tags": []
          },
          "execution_count": 10
        }
      ]
    },
    {
      "cell_type": "code",
      "metadata": {
        "id": "DCMyMUqr6bvj",
        "colab_type": "code",
        "colab": {
          "base_uri": "https://localhost:8080/",
          "height": 142
        },
        "outputId": "bf17bb52-4f03-406f-cb36-794fba4a4270"
      },
      "source": [
        "model = xresnet50()\n",
        "learn = Learner(dls, model, loss_func=CrossEntropyLossFlat(), metrics=accuracy)\n",
        "learn.fit_one_cycle(3, 3e-3)"
      ],
      "execution_count": 11,
      "outputs": [
        {
          "output_type": "display_data",
          "data": {
            "text/html": [
              "<table border=\"1\" class=\"dataframe\">\n",
              "  <thead>\n",
              "    <tr style=\"text-align: left;\">\n",
              "      <th>epoch</th>\n",
              "      <th>train_loss</th>\n",
              "      <th>valid_loss</th>\n",
              "      <th>accuracy</th>\n",
              "      <th>time</th>\n",
              "    </tr>\n",
              "  </thead>\n",
              "  <tbody>\n",
              "    <tr>\n",
              "      <td>0</td>\n",
              "      <td>1.393984</td>\n",
              "      <td>1.590701</td>\n",
              "      <td>0.446750</td>\n",
              "      <td>11:21</td>\n",
              "    </tr>\n",
              "    <tr>\n",
              "      <td>1</td>\n",
              "      <td>0.908354</td>\n",
              "      <td>0.838401</td>\n",
              "      <td>0.703750</td>\n",
              "      <td>11:24</td>\n",
              "    </tr>\n",
              "    <tr>\n",
              "      <td>2</td>\n",
              "      <td>0.716400</td>\n",
              "      <td>0.681479</td>\n",
              "      <td>0.761750</td>\n",
              "      <td>11:25</td>\n",
              "    </tr>\n",
              "  </tbody>\n",
              "</table>"
            ],
            "text/plain": [
              "<IPython.core.display.HTML object>"
            ]
          },
          "metadata": {
            "tags": []
          }
        }
      ]
    },
    {
      "cell_type": "markdown",
      "metadata": {
        "id": "ZUHMyslo6bvm",
        "colab_type": "text"
      },
      "source": [
        "## Progressive Resizing"
      ]
    },
    {
      "cell_type": "code",
      "metadata": {
        "id": "b4Ni6Jv66bvo",
        "colab_type": "code",
        "colab": {
          "base_uri": "https://localhost:8080/",
          "height": 142
        },
        "outputId": "882c0a3d-4c35-4562-f993-1694a7c42523"
      },
      "source": [
        "dls = get_dls(128, 128)\n",
        "learn = Learner(dls, xresnet50(), loss_func=CrossEntropyLossFlat(), \n",
        "                metrics=accuracy)\n",
        "learn.fit_one_cycle(3, 3e-3)"
      ],
      "execution_count": 12,
      "outputs": [
        {
          "output_type": "display_data",
          "data": {
            "text/html": [
              "<table border=\"1\" class=\"dataframe\">\n",
              "  <thead>\n",
              "    <tr style=\"text-align: left;\">\n",
              "      <th>epoch</th>\n",
              "      <th>train_loss</th>\n",
              "      <th>valid_loss</th>\n",
              "      <th>accuracy</th>\n",
              "      <th>time</th>\n",
              "    </tr>\n",
              "  </thead>\n",
              "  <tbody>\n",
              "    <tr>\n",
              "      <td>0</td>\n",
              "      <td>1.287699</td>\n",
              "      <td>1.154913</td>\n",
              "      <td>0.589500</td>\n",
              "      <td>04:57</td>\n",
              "    </tr>\n",
              "    <tr>\n",
              "      <td>1</td>\n",
              "      <td>0.875983</td>\n",
              "      <td>0.938446</td>\n",
              "      <td>0.673417</td>\n",
              "      <td>04:56</td>\n",
              "    </tr>\n",
              "    <tr>\n",
              "      <td>2</td>\n",
              "      <td>0.644135</td>\n",
              "      <td>0.602911</td>\n",
              "      <td>0.789083</td>\n",
              "      <td>04:57</td>\n",
              "    </tr>\n",
              "  </tbody>\n",
              "</table>"
            ],
            "text/plain": [
              "<IPython.core.display.HTML object>"
            ]
          },
          "metadata": {
            "tags": []
          }
        }
      ]
    },
    {
      "cell_type": "code",
      "metadata": {
        "id": "XwEYpCE19ULk",
        "colab_type": "code",
        "colab": {}
      },
      "source": [
        "learn.dls = get_dls(64, 224)\n",
        "learn.fine_tune(3, 1e-3)"
      ],
      "execution_count": null,
      "outputs": []
    },
    {
      "cell_type": "markdown",
      "metadata": {
        "id": "XVvuH7c46bvs",
        "colab_type": "text"
      },
      "source": [
        "## Test Time Augmentation"
      ]
    },
    {
      "cell_type": "code",
      "metadata": {
        "id": "INyEGgH46bvt",
        "colab_type": "code",
        "colab": {}
      },
      "source": [
        "preds,targs = learn.tta()\n",
        "accuracy(preds, targs).item()"
      ],
      "execution_count": null,
      "outputs": []
    },
    {
      "cell_type": "markdown",
      "metadata": {
        "id": "mtZws9q06bvv",
        "colab_type": "text"
      },
      "source": [
        "## Mixup"
      ]
    },
    {
      "cell_type": "code",
      "metadata": {
        "hide_input": true,
        "id": "vzMXKUV_6bvw",
        "colab_type": "code",
        "colab": {}
      },
      "source": [
        "#hide_input\n",
        "#id mixup_example\n",
        "#caption Mixing a church and a gas station\n",
        "#alt An image of a church, a gas station and the two mixed up.\n",
        "church = PILImage.create(get_image_files_sorted(path/'train'/'n03028079')[0])\n",
        "gas = PILImage.create(get_image_files_sorted(path/'train'/'n03425413')[0])\n",
        "church = church.resize((256,256))\n",
        "gas = gas.resize((256,256))\n",
        "tchurch = tensor(church).float() / 255.\n",
        "tgas = tensor(gas).float() / 255.\n",
        "\n",
        "_,axs = plt.subplots(1, 3, figsize=(12,4))\n",
        "show_image(tchurch, ax=axs[0]);\n",
        "show_image(tgas, ax=axs[1]);\n",
        "show_image((0.3*tchurch + 0.7*tgas), ax=axs[2]);"
      ],
      "execution_count": null,
      "outputs": []
    },
    {
      "cell_type": "markdown",
      "metadata": {
        "id": "dkg_0BfaOuHI",
        "colab_type": "text"
      },
      "source": [
        "## Label Smoothing"
      ]
    },
    {
      "cell_type": "code",
      "metadata": {
        "id": "Dtb2ereMOwl-",
        "colab_type": "code",
        "colab": {}
      },
      "source": [
        "model = xresnet50()\n",
        "learn = Learner(dls, model, loss_func=LabelSmoothingCrossEntropy(), \n",
        "                metrics=accuracy)\n",
        "learn.fit_one_cycle(5, 3e-"
      ],
      "execution_count": null,
      "outputs": []
    }
  ]
}