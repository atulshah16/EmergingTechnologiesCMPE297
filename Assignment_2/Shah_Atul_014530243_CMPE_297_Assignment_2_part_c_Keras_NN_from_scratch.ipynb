{
  "nbformat": 4,
  "nbformat_minor": 0,
  "metadata": {
    "jupytext": {
      "split_at_heading": true
    },
    "kernelspec": {
      "display_name": "Python 3",
      "language": "python",
      "name": "python3"
    },
    "colab": {
      "name": "Shah Atul 014530243 CMPE 297 Assignment 2 part c Keras NN from scratch.ipynb",
      "provenance": [],
      "include_colab_link": true
    },
    "accelerator": "GPU"
  },
  "cells": [
    {
      "cell_type": "markdown",
      "metadata": {
        "id": "view-in-github",
        "colab_type": "text"
      },
      "source": [
        "<a href=\"https://colab.research.google.com/github/atulshah16/EmergingTechnologiesCMPE297/blob/master/Assignment_2/Shah_Atul_014530243_CMPE_297_Assignment_2_part_c_Keras_NN_from_scratch.ipynb\" target=\"_parent\"><img src=\"https://colab.research.google.com/assets/colab-badge.svg\" alt=\"Open In Colab\"/></a>"
      ]
    },
    {
      "cell_type": "code",
      "metadata": {
        "id": "Apoi6etq6bvC",
        "colab_type": "code",
        "colab": {
          "base_uri": "https://localhost:8080/",
          "height": 221
        },
        "outputId": "fc18d692-a6c2-4efc-f531-240d86051fbe"
      },
      "source": [
        "#hide\n",
        "!pip install -Uqq fastbook\n",
        "import fastbook\n",
        "fastbook.setup_book()"
      ],
      "execution_count": 1,
      "outputs": [
        {
          "output_type": "stream",
          "text": [
            "\u001b[?25l\r\u001b[K     |▌                               | 10kB 26.0MB/s eta 0:00:01\r\u001b[K     |█                               | 20kB 5.9MB/s eta 0:00:01\r\u001b[K     |█▍                              | 30kB 6.9MB/s eta 0:00:01\r\u001b[K     |█▉                              | 40kB 7.5MB/s eta 0:00:01\r\u001b[K     |██▎                             | 51kB 6.6MB/s eta 0:00:01\r\u001b[K     |██▊                             | 61kB 7.2MB/s eta 0:00:01\r\u001b[K     |███▏                            | 71kB 8.1MB/s eta 0:00:01\r\u001b[K     |███▋                            | 81kB 8.6MB/s eta 0:00:01\r\u001b[K     |████                            | 92kB 8.5MB/s eta 0:00:01\r\u001b[K     |████▌                           | 102kB 8.8MB/s eta 0:00:01\r\u001b[K     |█████                           | 112kB 8.8MB/s eta 0:00:01\r\u001b[K     |█████▌                          | 122kB 8.8MB/s eta 0:00:01\r\u001b[K     |██████                          | 133kB 8.8MB/s eta 0:00:01\r\u001b[K     |██████▍                         | 143kB 8.8MB/s eta 0:00:01\r\u001b[K     |██████▉                         | 153kB 8.8MB/s eta 0:00:01\r\u001b[K     |███████▎                        | 163kB 8.8MB/s eta 0:00:01\r\u001b[K     |███████▊                        | 174kB 8.8MB/s eta 0:00:01\r\u001b[K     |████████▏                       | 184kB 8.8MB/s eta 0:00:01\r\u001b[K     |████████▋                       | 194kB 8.8MB/s eta 0:00:01\r\u001b[K     |█████████                       | 204kB 8.8MB/s eta 0:00:01\r\u001b[K     |█████████▋                      | 215kB 8.8MB/s eta 0:00:01\r\u001b[K     |██████████                      | 225kB 8.8MB/s eta 0:00:01\r\u001b[K     |██████████▌                     | 235kB 8.8MB/s eta 0:00:01\r\u001b[K     |███████████                     | 245kB 8.8MB/s eta 0:00:01\r\u001b[K     |███████████▍                    | 256kB 8.8MB/s eta 0:00:01\r\u001b[K     |███████████▉                    | 266kB 8.8MB/s eta 0:00:01\r\u001b[K     |████████████▎                   | 276kB 8.8MB/s eta 0:00:01\r\u001b[K     |████████████▊                   | 286kB 8.8MB/s eta 0:00:01\r\u001b[K     |█████████████▏                  | 296kB 8.8MB/s eta 0:00:01\r\u001b[K     |█████████████▋                  | 307kB 8.8MB/s eta 0:00:01\r\u001b[K     |██████████████▏                 | 317kB 8.8MB/s eta 0:00:01\r\u001b[K     |██████████████▋                 | 327kB 8.8MB/s eta 0:00:01\r\u001b[K     |███████████████                 | 337kB 8.8MB/s eta 0:00:01\r\u001b[K     |███████████████▌                | 348kB 8.8MB/s eta 0:00:01\r\u001b[K     |████████████████                | 358kB 8.8MB/s eta 0:00:01\r\u001b[K     |████████████████▍               | 368kB 8.8MB/s eta 0:00:01\r\u001b[K     |████████████████▉               | 378kB 8.8MB/s eta 0:00:01\r\u001b[K     |█████████████████▎              | 389kB 8.8MB/s eta 0:00:01\r\u001b[K     |█████████████████▊              | 399kB 8.8MB/s eta 0:00:01\r\u001b[K     |██████████████████▏             | 409kB 8.8MB/s eta 0:00:01\r\u001b[K     |██████████████████▊             | 419kB 8.8MB/s eta 0:00:01\r\u001b[K     |███████████████████▏            | 430kB 8.8MB/s eta 0:00:01\r\u001b[K     |███████████████████▋            | 440kB 8.8MB/s eta 0:00:01\r\u001b[K     |████████████████████            | 450kB 8.8MB/s eta 0:00:01\r\u001b[K     |████████████████████▌           | 460kB 8.8MB/s eta 0:00:01\r\u001b[K     |█████████████████████           | 471kB 8.8MB/s eta 0:00:01\r\u001b[K     |█████████████████████▍          | 481kB 8.8MB/s eta 0:00:01\r\u001b[K     |█████████████████████▉          | 491kB 8.8MB/s eta 0:00:01\r\u001b[K     |██████████████████████▎         | 501kB 8.8MB/s eta 0:00:01\r\u001b[K     |██████████████████████▊         | 512kB 8.8MB/s eta 0:00:01\r\u001b[K     |███████████████████████▎        | 522kB 8.8MB/s eta 0:00:01\r\u001b[K     |███████████████████████▊        | 532kB 8.8MB/s eta 0:00:01\r\u001b[K     |████████████████████████▏       | 542kB 8.8MB/s eta 0:00:01\r\u001b[K     |████████████████████████▋       | 552kB 8.8MB/s eta 0:00:01\r\u001b[K     |█████████████████████████       | 563kB 8.8MB/s eta 0:00:01\r\u001b[K     |█████████████████████████▌      | 573kB 8.8MB/s eta 0:00:01\r\u001b[K     |██████████████████████████      | 583kB 8.8MB/s eta 0:00:01\r\u001b[K     |██████████████████████████▍     | 593kB 8.8MB/s eta 0:00:01\r\u001b[K     |██████████████████████████▉     | 604kB 8.8MB/s eta 0:00:01\r\u001b[K     |███████████████████████████▎    | 614kB 8.8MB/s eta 0:00:01\r\u001b[K     |███████████████████████████▉    | 624kB 8.8MB/s eta 0:00:01\r\u001b[K     |████████████████████████████▎   | 634kB 8.8MB/s eta 0:00:01\r\u001b[K     |████████████████████████████▊   | 645kB 8.8MB/s eta 0:00:01\r\u001b[K     |█████████████████████████████▏  | 655kB 8.8MB/s eta 0:00:01\r\u001b[K     |█████████████████████████████▋  | 665kB 8.8MB/s eta 0:00:01\r\u001b[K     |██████████████████████████████  | 675kB 8.8MB/s eta 0:00:01\r\u001b[K     |██████████████████████████████▌ | 686kB 8.8MB/s eta 0:00:01\r\u001b[K     |███████████████████████████████ | 696kB 8.8MB/s eta 0:00:01\r\u001b[K     |███████████████████████████████▍| 706kB 8.8MB/s eta 0:00:01\r\u001b[K     |███████████████████████████████▉| 716kB 8.8MB/s eta 0:00:01\r\u001b[K     |████████████████████████████████| 727kB 8.8MB/s \n",
            "\u001b[K     |████████████████████████████████| 61kB 9.5MB/s \n",
            "\u001b[K     |████████████████████████████████| 51kB 7.2MB/s \n",
            "\u001b[K     |████████████████████████████████| 358kB 13.2MB/s \n",
            "\u001b[K     |████████████████████████████████| 1.0MB 27.3MB/s \n",
            "\u001b[K     |████████████████████████████████| 40kB 6.6MB/s \n",
            "\u001b[K     |████████████████████████████████| 92kB 11.6MB/s \n",
            "\u001b[K     |████████████████████████████████| 40kB 6.9MB/s \n",
            "\u001b[K     |████████████████████████████████| 51kB 8.1MB/s \n",
            "\u001b[K     |████████████████████████████████| 61kB 9.6MB/s \n",
            "\u001b[K     |████████████████████████████████| 2.6MB 54.7MB/s \n",
            "\u001b[?25hMounted at /content/gdrive\n"
          ],
          "name": "stdout"
        }
      ]
    },
    {
      "cell_type": "code",
      "metadata": {
        "id": "PZmUpAZU6bvJ",
        "colab_type": "code",
        "colab": {}
      },
      "source": [
        "#hide\n",
        "from fastbook import *"
      ],
      "execution_count": 2,
      "outputs": []
    },
    {
      "cell_type": "markdown",
      "metadata": {
        "id": "JSx9Cfgr6bvN",
        "colab_type": "text"
      },
      "source": [
        "# Training a State-of-the-Art Model"
      ]
    },
    {
      "cell_type": "markdown",
      "metadata": {
        "id": "qDgcfnP76bvO",
        "colab_type": "text"
      },
      "source": [
        "## CIFAR10"
      ]
    },
    {
      "cell_type": "code",
      "metadata": {
        "id": "Oj758X_W6bvP",
        "colab_type": "code",
        "colab": {
          "base_uri": "https://localhost:8080/",
          "height": 17
        },
        "outputId": "669d4ea3-8b77-4939-84c3-cb91d1ca5d23"
      },
      "source": [
        "from fastai.vision.all import *\n",
        "path = untar_data(URLs.CIFAR)"
      ],
      "execution_count": 4,
      "outputs": [
        {
          "output_type": "display_data",
          "data": {
            "text/html": [
              ""
            ],
            "text/plain": [
              "<IPython.core.display.HTML object>"
            ]
          },
          "metadata": {
            "tags": []
          }
        }
      ]
    },
    {
      "cell_type": "code",
      "metadata": {
        "id": "dgaPmauW6bvS",
        "colab_type": "code",
        "colab": {}
      },
      "source": [
        "dblock = DataBlock(blocks=(ImageBlock(), CategoryBlock()),\n",
        "                   get_items=get_image_files,\n",
        "                   get_y=parent_label,\n",
        "                   item_tfms=Resize(460),\n",
        "                   batch_tfms=aug_transforms(size=224, min_scale=0.75))\n",
        "dls = dblock.dataloaders(path, bs=64)"
      ],
      "execution_count": 5,
      "outputs": []
    },
    {
      "cell_type": "code",
      "metadata": {
        "id": "ayQWyZyT6bvU",
        "colab_type": "code",
        "colab": {
          "base_uri": "https://localhost:8080/",
          "height": 142
        },
        "outputId": "3cae8d84-4578-4db9-e854-54df704d944d"
      },
      "source": [
        "model = xresnet50()\n",
        "learn = Learner(dls, model, loss_func=CrossEntropyLossFlat(), metrics=accuracy)\n",
        "learn.fit_one_cycle(3, 3e-3)"
      ],
      "execution_count": 6,
      "outputs": [
        {
          "output_type": "display_data",
          "data": {
            "text/html": [
              "<table border=\"1\" class=\"dataframe\">\n",
              "  <thead>\n",
              "    <tr style=\"text-align: left;\">\n",
              "      <th>epoch</th>\n",
              "      <th>train_loss</th>\n",
              "      <th>valid_loss</th>\n",
              "      <th>accuracy</th>\n",
              "      <th>time</th>\n",
              "    </tr>\n",
              "  </thead>\n",
              "  <tbody>\n",
              "    <tr>\n",
              "      <td>0</td>\n",
              "      <td>1.356064</td>\n",
              "      <td>1.591986</td>\n",
              "      <td>0.466917</td>\n",
              "      <td>11:25</td>\n",
              "    </tr>\n",
              "    <tr>\n",
              "      <td>1</td>\n",
              "      <td>0.917505</td>\n",
              "      <td>0.918472</td>\n",
              "      <td>0.674583</td>\n",
              "      <td>11:28</td>\n",
              "    </tr>\n",
              "    <tr>\n",
              "      <td>2</td>\n",
              "      <td>0.710685</td>\n",
              "      <td>0.686783</td>\n",
              "      <td>0.758250</td>\n",
              "      <td>11:28</td>\n",
              "    </tr>\n",
              "  </tbody>\n",
              "</table>"
            ],
            "text/plain": [
              "<IPython.core.display.HTML object>"
            ]
          },
          "metadata": {
            "tags": []
          }
        }
      ]
    },
    {
      "cell_type": "markdown",
      "metadata": {
        "id": "FOV10jd76bvY",
        "colab_type": "text"
      },
      "source": [
        "## Normalization"
      ]
    },
    {
      "cell_type": "code",
      "metadata": {
        "id": "UJEg2LI06bvZ",
        "colab_type": "code",
        "colab": {
          "base_uri": "https://localhost:8080/"
        },
        "outputId": "b30c31d0-7106-40cf-e2d2-541748abf471"
      },
      "source": [
        "x,y = dls.one_batch()\n",
        "x.mean(dim=[0,2,3]),x.std(dim=[0,2,3])"
      ],
      "execution_count": 7,
      "outputs": [
        {
          "output_type": "execute_result",
          "data": {
            "text/plain": [
              "(TensorImage([0.4911, 0.4839, 0.4596], device='cuda:0'),\n",
              " TensorImage([0.2434, 0.2381, 0.2520], device='cuda:0'))"
            ]
          },
          "metadata": {
            "tags": []
          },
          "execution_count": 7
        }
      ]
    },
    {
      "cell_type": "code",
      "metadata": {
        "id": "6Y5PhRYn6bvc",
        "colab_type": "code",
        "colab": {}
      },
      "source": [
        "def get_dls(bs, size):\n",
        "    dblock = DataBlock(blocks=(ImageBlock, CategoryBlock),\n",
        "                   get_items=get_image_files,\n",
        "                   get_y=parent_label,\n",
        "                   item_tfms=Resize(460),\n",
        "                   batch_tfms=[*aug_transforms(size=size, min_scale=0.75),\n",
        "                               Normalize.from_stats(*imagenet_stats)])\n",
        "    return dblock.dataloaders(path, bs=bs)"
      ],
      "execution_count": null,
      "outputs": []
    },
    {
      "cell_type": "code",
      "metadata": {
        "id": "QuVNeJJ66bvf",
        "colab_type": "code",
        "colab": {}
      },
      "source": [
        "dls = get_dls(64, 224)"
      ],
      "execution_count": null,
      "outputs": []
    },
    {
      "cell_type": "code",
      "metadata": {
        "id": "-WVHdAfV6bvh",
        "colab_type": "code",
        "colab": {}
      },
      "source": [
        "x,y = dls.one_batch()\n",
        "x.mean(dim=[0,2,3]),x.std(dim=[0,2,3])"
      ],
      "execution_count": null,
      "outputs": []
    },
    {
      "cell_type": "code",
      "metadata": {
        "id": "DCMyMUqr6bvj",
        "colab_type": "code",
        "colab": {}
      },
      "source": [
        "model = xresnet50()\n",
        "learn = Learner(dls, model, loss_func=CrossEntropyLossFlat(), metrics=accuracy)\n",
        "learn.fit_one_cycle(3, 3e-3)"
      ],
      "execution_count": null,
      "outputs": []
    },
    {
      "cell_type": "markdown",
      "metadata": {
        "id": "ZUHMyslo6bvm",
        "colab_type": "text"
      },
      "source": [
        "## Progressive Resizing"
      ]
    },
    {
      "cell_type": "code",
      "metadata": {
        "id": "b4Ni6Jv66bvo",
        "colab_type": "code",
        "colab": {}
      },
      "source": [
        "dls = get_dls(128, 128)\n",
        "learn = Learner(dls, xresnet50(), loss_func=CrossEntropyLossFlat(), \n",
        "                metrics=accuracy)\n",
        "learn.fit_one_cycle(4, 3e-3)"
      ],
      "execution_count": null,
      "outputs": []
    },
    {
      "cell_type": "code",
      "metadata": {
        "id": "GHHunyzh6bvr",
        "colab_type": "code",
        "colab": {}
      },
      "source": [
        "learn.dls = get_dls(64, 224)\n",
        "learn.fine_tune(3, 1e-3)"
      ],
      "execution_count": null,
      "outputs": []
    },
    {
      "cell_type": "markdown",
      "metadata": {
        "id": "XVvuH7c46bvs",
        "colab_type": "text"
      },
      "source": [
        "## Test Time Augmentation"
      ]
    },
    {
      "cell_type": "code",
      "metadata": {
        "id": "INyEGgH46bvt",
        "colab_type": "code",
        "colab": {}
      },
      "source": [
        "preds,targs = learn.tta()\n",
        "accuracy(preds, targs).item()"
      ],
      "execution_count": null,
      "outputs": []
    },
    {
      "cell_type": "markdown",
      "metadata": {
        "id": "mtZws9q06bvv",
        "colab_type": "text"
      },
      "source": [
        "## Mixup"
      ]
    },
    {
      "cell_type": "code",
      "metadata": {
        "hide_input": true,
        "id": "vzMXKUV_6bvw",
        "colab_type": "code",
        "colab": {}
      },
      "source": [
        "#hide_input\n",
        "#id mixup_example\n",
        "#caption Mixing a church and a gas station\n",
        "#alt An image of a church, a gas station and the two mixed up.\n",
        "church = PILImage.create(get_image_files_sorted(path/'train'/'n03028079')[0])\n",
        "gas = PILImage.create(get_image_files_sorted(path/'train'/'n03425413')[0])\n",
        "church = church.resize((256,256))\n",
        "gas = gas.resize((256,256))\n",
        "tchurch = tensor(church).float() / 255.\n",
        "tgas = tensor(gas).float() / 255.\n",
        "\n",
        "_,axs = plt.subplots(1, 3, figsize=(12,4))\n",
        "show_image(tchurch, ax=axs[0]);\n",
        "show_image(tgas, ax=axs[1]);\n",
        "show_image((0.3*tchurch + 0.7*tgas), ax=axs[2]);"
      ],
      "execution_count": null,
      "outputs": []
    }
  ]
}